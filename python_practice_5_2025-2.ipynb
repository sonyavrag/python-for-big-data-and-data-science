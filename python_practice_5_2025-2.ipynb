{
  "nbformat": 4,
  "nbformat_minor": 0,
  "metadata": {
    "colab": {
      "provenance": []
    },
    "kernelspec": {
      "name": "python3",
      "display_name": "Python 3"
    },
    "language_info": {
      "name": "python"
    }
  },
  "cells": [
    {
      "cell_type": "markdown",
      "source": [
        "# I. OOP"
      ],
      "metadata": {
        "id": "5qV_sehzFCTp"
      }
    },
    {
      "cell_type": "markdown",
      "source": [
        "1. (6б). Створіть клас Building, додайте три атрибути, один з яких має значення за замовчуванням та два методи на свій розсуд."
      ],
      "metadata": {
        "id": "tx_U_hOALyfg"
      }
    },
    {
      "cell_type": "code",
      "source": [
        "class Building:\n",
        "  def __init__(self, floors , colour, material = 'brick'):\n",
        "    self.floors = floors if floors > 0 else 1\n",
        "    self.colour = str(colour)\n",
        "    self.material = material\n",
        "\n",
        "  def change_floors(self, amount):\n",
        "    new_floors = self.floors + amount\n",
        "    if new_floors < 1:\n",
        "        return print('Amount of floors must be at least 1')\n",
        "    else:\n",
        "        self.floors = new_floors\n",
        "\n",
        "  def __str__(self):\n",
        "    return f'Floors of the building - {self.floors}, colour of the building - {self.colour}, material of the building - {self.material}'\n"
      ],
      "metadata": {
        "id": "-Vf895KaL88N"
      },
      "execution_count": 88,
      "outputs": []
    },
    {
      "cell_type": "markdown",
      "source": [
        "2. (2б). Створіть два обʼєкти цього класу, де один з обʼєктів створюється із дефолтним значенням атрибуту. На одному обʼєкті отримайте значення його атрибуту, а на іншому викличте один з його методів."
      ],
      "metadata": {
        "id": "X_UlOMB0L93w"
      }
    },
    {
      "cell_type": "code",
      "source": [
        "building_1 = Building(12,'gray')\n",
        "building_2 = Building(5, 'brown' , 'wood')\n",
        "print(building_1.material)\n",
        "building_2.change_floors(6)\n",
        "print(building_2.floors)"
      ],
      "metadata": {
        "id": "7gBu0ESOMCpG",
        "colab": {
          "base_uri": "https://localhost:8080/"
        },
        "outputId": "0f27c19e-bd5f-4069-ecec-cd39be3463d9"
      },
      "execution_count": 89,
      "outputs": [
        {
          "output_type": "stream",
          "name": "stdout",
          "text": [
            "brick\n",
            "11\n"
          ]
        }
      ]
    },
    {
      "cell_type": "markdown",
      "source": [
        "3. (5б). Створіть клас, де атрибути мають різні рівні доступу. Спробуйте отримати їхні значення та опишіть результати."
      ],
      "metadata": {
        "id": "HoqSCZt1MHn5"
      }
    },
    {
      "cell_type": "code",
      "source": [
        "class Building:\n",
        "  def __init__(self, floors_public , colour_private, material_protected):\n",
        "    self.floors_public = floors_public\n",
        "    self.__colour_private = colour_private\n",
        "    self._material_protected = material_protected\n",
        "\n",
        "  def get_colour_private(self):\n",
        "    return self.__colour_private\n",
        "\n",
        "  def get_material_protected(self):\n",
        "    return self._material_protected\n",
        "\n",
        "building = Building(1,'red','brick')\n",
        "print(building.get_material_protected())\n",
        "print(building._material_protected)\n",
        "print(building.get_colour_private())\n",
        "print(building.__colour_private)"
      ],
      "metadata": {
        "id": "r9b3vJxBMSPV",
        "colab": {
          "base_uri": "https://localhost:8080/",
          "height": 224
        },
        "outputId": "37aa0d2b-5f93-4027-c1e3-de64ef618d64"
      },
      "execution_count": 90,
      "outputs": [
        {
          "output_type": "stream",
          "name": "stdout",
          "text": [
            "brick\n",
            "brick\n",
            "red\n"
          ]
        },
        {
          "output_type": "error",
          "ename": "AttributeError",
          "evalue": "'Building' object has no attribute '__colour_private'",
          "traceback": [
            "\u001b[0;31m---------------------------------------------------------------------------\u001b[0m",
            "\u001b[0;31mAttributeError\u001b[0m                            Traceback (most recent call last)",
            "\u001b[0;32m<ipython-input-90-8df6b669c497>\u001b[0m in \u001b[0;36m<cell line: 0>\u001b[0;34m()\u001b[0m\n\u001b[1;32m     15\u001b[0m \u001b[0mprint\u001b[0m\u001b[0;34m(\u001b[0m\u001b[0mbuilding\u001b[0m\u001b[0;34m.\u001b[0m\u001b[0m_material_protected\u001b[0m\u001b[0;34m)\u001b[0m\u001b[0;34m\u001b[0m\u001b[0;34m\u001b[0m\u001b[0m\n\u001b[1;32m     16\u001b[0m \u001b[0mprint\u001b[0m\u001b[0;34m(\u001b[0m\u001b[0mbuilding\u001b[0m\u001b[0;34m.\u001b[0m\u001b[0mget_colour_private\u001b[0m\u001b[0;34m(\u001b[0m\u001b[0;34m)\u001b[0m\u001b[0;34m)\u001b[0m\u001b[0;34m\u001b[0m\u001b[0;34m\u001b[0m\u001b[0m\n\u001b[0;32m---> 17\u001b[0;31m \u001b[0mprint\u001b[0m\u001b[0;34m(\u001b[0m\u001b[0mbuilding\u001b[0m\u001b[0;34m.\u001b[0m\u001b[0m__colour_private\u001b[0m\u001b[0;34m)\u001b[0m\u001b[0;34m\u001b[0m\u001b[0;34m\u001b[0m\u001b[0m\n\u001b[0m",
            "\u001b[0;31mAttributeError\u001b[0m: 'Building' object has no attribute '__colour_private'"
          ]
        }
      ]
    },
    {
      "cell_type": "markdown",
      "source": [
        "protected атрибут можна викликати як напряму building._material_protected, так і через метод building.get_material_protected(). а private атрибут лише через метод building.get_colour_private(). через building.__colour_private видасть помилку, ніби такого атрибуту не існує, пайтон так захищає private атрибути."
      ],
      "metadata": {
        "id": "u7Vcs152atPr"
      }
    },
    {
      "cell_type": "markdown",
      "source": [
        "4. (7б). Як ви розумієте термін self? Для чого використовується метод __init __?"
      ],
      "metadata": {
        "id": "5op2m2vgMSkZ"
      }
    },
    {
      "cell_type": "markdown",
      "source": [
        "термін self це зарезервована змінна, вказівник на сам обʼєкт, містить інформацію про сам обʼєкт та його методи. метод __init__ використовується для ініціалізації обʼєктів з їх початковими станами"
      ],
      "metadata": {
        "id": "DyiPqNRvMasx"
      }
    },
    {
      "cell_type": "markdown",
      "source": [
        "5. (9б). Створіть клас 3D-фігура без атрибутів, з методом get_volume для отримання об'єму фігури, що повертає 0 та __add __, який приймає self та other в якості аргументів, а повертає суму об'ємів 3d-фігур self та other."
      ],
      "metadata": {
        "id": "-6X8EGfjMd2y"
      }
    },
    {
      "cell_type": "code",
      "source": [
        "class Figure3D:\n",
        "  def __init__(self):\n",
        "    pass\n",
        "\n",
        "  def get_volume(self):\n",
        "    return 0\n",
        "\n",
        "  def __add__(self, other):\n",
        "    if isinstance(other, Figure3D):\n",
        "     return self.get_volume() + other.get_volume()\n",
        "\n",
        "figure = Figure3D()\n",
        "figure2 = Figure3D()\n",
        "print(figure.get_volume())\n",
        "print(figure + figure2)"
      ],
      "metadata": {
        "id": "4rvO_wYUMaEr",
        "colab": {
          "base_uri": "https://localhost:8080/"
        },
        "outputId": "e28b9b4a-1690-4828-8f82-db1bc51d80ff"
      },
      "execution_count": 87,
      "outputs": [
        {
          "output_type": "stream",
          "name": "stdout",
          "text": [
            "0\n",
            "0\n"
          ]
        }
      ]
    },
    {
      "cell_type": "markdown",
      "source": [
        "6. (11б). Створіть 2 дочірніх класи від 3d-фігура: Циліндр та Куб, які мають атрибути, необхідні для розрахунку об'єму. Визначте метод get_volume в кожному з них так, щоби вони розраховували об'єм у залежності від формули для кожного типу фігури. Створіть обʼєкт класу Циліндр та обʼєкт класу Куб. Виконайте операцію суми за допомогою оператора + між ними, аби знайти сумарний об'єм."
      ],
      "metadata": {
        "id": "SFcKnnv5Mo_z"
      }
    },
    {
      "cell_type": "code",
      "source": [
        "import math\n",
        "\n",
        "class Figure3D:\n",
        "  def __init__(self):\n",
        "    pass\n",
        "\n",
        "  def get_volume(self):\n",
        "    return 0\n",
        "\n",
        "  def __add__(self, other):\n",
        "    if isinstance(other, Figure3D):\n",
        "     return self.get_volume() + other.get_volume()\n",
        "\n",
        "\n",
        "class Cylinder(Figure3D):\n",
        "  def __init__(self, radius, height):\n",
        "    Figure3D.__init__(self)\n",
        "    self.radius = radius\n",
        "    self.height = height\n",
        "\n",
        "  def get_volume(self):\n",
        "    return math.pi * self.radius**2 * self.height\n",
        "\n",
        "\n",
        "class Cube(Figure3D):\n",
        "  def __init__(self, side_length):\n",
        "    Figure3D.__init__(self)\n",
        "    self.side_length = side_length\n",
        "\n",
        "  def get_volume(self):\n",
        "    return self.side_length**3\n",
        "\n",
        "cylinder = Cylinder(4,10)\n",
        "cube = Cube(12)\n",
        "print(cylinder.get_volume() + cube.get_volume())"
      ],
      "metadata": {
        "id": "H3GVNr69Muf3",
        "colab": {
          "base_uri": "https://localhost:8080/"
        },
        "outputId": "c43519b1-337e-4d31-e58b-7fe396b660db"
      },
      "execution_count": 86,
      "outputs": [
        {
          "output_type": "stream",
          "name": "stdout",
          "text": [
            "2230.654824574367\n"
          ]
        }
      ]
    },
    {
      "cell_type": "markdown",
      "source": [
        "7. (3б). Продемонструйте різницю між isinstance та issubclass."
      ],
      "metadata": {
        "id": "HCvR206YMvLK"
      }
    },
    {
      "cell_type": "code",
      "source": [
        "class Building:\n",
        "  pass\n",
        "\n",
        "class Apartment(Building):\n",
        "  pass\n",
        "\n",
        "building = Building()\n",
        "apartment = Apartment()\n",
        "\n",
        "print(isinstance(building, Building))\n",
        "print(isinstance(apartment, Building))\n",
        "print(isinstance(apartment, Apartment))\n",
        "print(isinstance(building, Apartment))\n",
        "\n",
        "print(issubclass(Apartment, Building))\n",
        "print(issubclass(Building, Apartment))"
      ],
      "metadata": {
        "id": "L_V1bBvDM0GN",
        "colab": {
          "base_uri": "https://localhost:8080/"
        },
        "outputId": "acc0ae39-b06a-4c7a-b366-c87836b3bbfa"
      },
      "execution_count": 85,
      "outputs": [
        {
          "output_type": "stream",
          "name": "stdout",
          "text": [
            "True\n",
            "True\n",
            "True\n",
            "False\n",
            "True\n",
            "False\n"
          ]
        }
      ]
    },
    {
      "cell_type": "markdown",
      "source": [
        "8. (13б). Створіть клас EWallet з приватними атрибутами balance та id. Реалізуйте методи поповнення та зняття коштів, забезпечивши належну інкапсуляцію. Підказка: використовуйте декоратори property та setter."
      ],
      "metadata": {
        "id": "jjsaBZ-iM0Qq"
      }
    },
    {
      "cell_type": "code",
      "source": [
        "class EWallet:\n",
        "  def __init__(self, balance, id):\n",
        "    self.__balance = balance\n",
        "    self.__id = id\n",
        "\n",
        "  @property\n",
        "  def balance(self):\n",
        "    return self.__balance\n",
        "\n",
        "  @balance.setter\n",
        "  def balance(self, money):\n",
        "    if money >= 0:\n",
        "      self.__balance = money\n",
        "\n",
        "  def add_money(self, money):\n",
        "    if money > 0:\n",
        "      self.balance = self.__balance + money\n",
        "      print(f'Баланс - {self.__balance}')\n",
        "\n",
        "  def withdraw_money(self, money):\n",
        "    if money > 0:\n",
        "      if self.__balance >= money:\n",
        "        self.balance = self.__balance - money\n",
        "        print(f'Баланс - {self.__balance}')\n",
        "\n",
        "\n",
        "ewallet = EWallet(1000, 1)\n",
        "ewallet.add_money(100)\n",
        "ewallet.withdraw_money(500)\n",
        "# ewallet.balance = 1200\n",
        "# print(ewallet.balance)"
      ],
      "metadata": {
        "id": "xCvZ7lh8M7YA",
        "colab": {
          "base_uri": "https://localhost:8080/"
        },
        "outputId": "8ae26078-799d-4560-b3f5-2ab834ce7565"
      },
      "execution_count": 84,
      "outputs": [
        {
          "output_type": "stream",
          "name": "stdout",
          "text": [
            "Баланс - 1100\n",
            "Баланс - 600\n"
          ]
        }
      ]
    },
    {
      "cell_type": "markdown",
      "source": [
        "9. (11б). Створіть клас ShoppingCart, який містить список об'єктів типу Item. Реалізуйте методи для додавання айтемів, їх видалення та відображення списку айтемів."
      ],
      "metadata": {
        "id": "tIzL2SJTM8ft"
      }
    },
    {
      "cell_type": "code",
      "source": [
        "class Item:\n",
        "  def __init__(self, id, name, price):\n",
        "    self.id = id\n",
        "    self.name = name\n",
        "    self.price = price\n",
        "\n",
        "  def __str__(self):\n",
        "    return f'id товару - {self.id}, назва товару - {self.name}, ціна товару - {self.price}'\n",
        "\n",
        "\n",
        "class ShoppingCart:\n",
        "  def __init__(self):\n",
        "    self.items = []\n",
        "\n",
        "  def add_item(self, item):\n",
        "    if isinstance(item, Item):\n",
        "      self.items.append(item)\n",
        "\n",
        "  def remove_item(self, id):\n",
        "    for item in self.items:\n",
        "      if item.id == id:\n",
        "        self.items.remove(item)\n",
        "        return\n",
        "\n",
        "  def view_cart(self):\n",
        "    if not self.items:\n",
        "      print(\"Корзина пуста\")\n",
        "    else:\n",
        "      print(\"Товари в корзині: \")\n",
        "      for item in self.items:\n",
        "        print(item)\n",
        "\n",
        "\n",
        "item1 = Item(1, \"хліб\", 60)\n",
        "item2 = Item(2, \"яйця\", 80)\n",
        "item3 = Item(3, \"молоко\", 100)\n",
        "\n",
        "cart = ShoppingCart()\n",
        "cart.add_item(item1)\n",
        "cart.add_item(item2)\n",
        "cart.add_item(item3)\n",
        "cart.view_cart()\n",
        "cart.remove_item(2)\n",
        "cart.view_cart()"
      ],
      "metadata": {
        "id": "HWxfJKLtNAUZ",
        "colab": {
          "base_uri": "https://localhost:8080/"
        },
        "outputId": "3fd8611d-52ae-41cf-f8de-eccf57d9308e"
      },
      "execution_count": 83,
      "outputs": [
        {
          "output_type": "stream",
          "name": "stdout",
          "text": [
            "Товари в корзині: \n",
            "id товару - 1, назва товару - хліб, ціна товару - 60\n",
            "id товару - 2, назва товару - яйця, ціна товару - 80\n",
            "id товару - 3, назва товару - молоко, ціна товару - 100\n",
            "Товари в корзині: \n",
            "id товару - 1, назва товару - хліб, ціна товару - 60\n",
            "id товару - 3, назва товару - молоко, ціна товару - 100\n"
          ]
        }
      ]
    },
    {
      "cell_type": "markdown",
      "source": [
        "10. (13б). Створіть клас Vehicle з атрибутами brand (manufacturer) та production_age. Створіть ще один клас Engine з такими атрибутами, як type (ex. petrol) та size (volume, litres). Створіть клас Car, який успадковує обидва класи Vehicle та Engine. Продемонструйте використання множинної спадковості, створивши обʼєкт класу Car та отримавши mro для цього класу."
      ],
      "metadata": {
        "id": "lmV8pAwwNIqu"
      }
    },
    {
      "cell_type": "code",
      "source": [
        "class Vehicle:\n",
        "  def __init__(self, brand, production_age):\n",
        "    self.brand = brand\n",
        "    self.production_age = production_age\n",
        "\n",
        "  def __str__(self):\n",
        "        return f'Brand - {self.brand}, Production Age - {self.production_age}'\n",
        "\n",
        "\n",
        "class Engine:\n",
        "  def __init__(self, type, size):\n",
        "    self.type = type\n",
        "    self.size = size\n",
        "\n",
        "  def __str__(self):\n",
        "    return f'Type - {self.type}, Size - {self.size} l'\n",
        "\n",
        "\n",
        "class Car(Vehicle, Engine):\n",
        "  def __init__(self, brand, production_age, type, size):\n",
        "    Vehicle.__init__(self, brand, production_age)\n",
        "    Engine.__init__(self, type, size)\n",
        "\n",
        "  def __str__(self):\n",
        "    return f'{Vehicle.__str__(self)} , {Engine.__str__(self)}'\n",
        "\n",
        "\n",
        "car = Car(\"porsche\", 2024, \"diesel\", 2.0)\n",
        "print(car)\n",
        "Car.mro()"
      ],
      "metadata": {
        "id": "R49grKlWNPeN",
        "colab": {
          "base_uri": "https://localhost:8080/"
        },
        "outputId": "d7b1d36b-cad5-4837-fd0f-080968c36572"
      },
      "execution_count": 78,
      "outputs": [
        {
          "output_type": "stream",
          "name": "stdout",
          "text": [
            "Brand - porsche, Production Age - 2024 , Type - diesel, Size - 2.0 l\n"
          ]
        },
        {
          "output_type": "execute_result",
          "data": {
            "text/plain": [
              "[__main__.Car, __main__.Vehicle, __main__.Engine, object]"
            ]
          },
          "metadata": {},
          "execution_count": 78
        }
      ]
    },
    {
      "cell_type": "markdown",
      "source": [
        "# II. Iterator"
      ],
      "metadata": {
        "id": "dIJyUiNBFG8G"
      }
    },
    {
      "cell_type": "markdown",
      "source": [
        "11. (4б). Визначте рядок(str) з 4ма різними за значенням символами. Створіть ітератор на основі цього рядка. Викличте 5 разів функцію next на ітераторі, 4ри перших з них огорніть у ф-цію print()."
      ],
      "metadata": {
        "id": "13vsm0NyKIzL"
      }
    },
    {
      "cell_type": "code",
      "source": [
        "string = \"okay\"\n",
        "string_iter = iter(string)\n",
        "for i in range(5):\n",
        "  if i < 4:\n",
        "    print(next(string_iter))\n",
        "  else:\n",
        "    next(string_iter)"
      ],
      "metadata": {
        "id": "81ntabAkKuz-",
        "colab": {
          "base_uri": "https://localhost:8080/",
          "height": 241
        },
        "outputId": "ab78c664-c260-4ecd-f3e2-4e30fcc0d20f"
      },
      "execution_count": 80,
      "outputs": [
        {
          "output_type": "stream",
          "name": "stdout",
          "text": [
            "o\n",
            "k\n",
            "a\n",
            "y\n"
          ]
        },
        {
          "output_type": "error",
          "ename": "StopIteration",
          "evalue": "",
          "traceback": [
            "\u001b[0;31m---------------------------------------------------------------------------\u001b[0m",
            "\u001b[0;31mStopIteration\u001b[0m                             Traceback (most recent call last)",
            "\u001b[0;32m<ipython-input-80-51b18a00c9fa>\u001b[0m in \u001b[0;36m<cell line: 0>\u001b[0;34m()\u001b[0m\n\u001b[1;32m      5\u001b[0m     \u001b[0mprint\u001b[0m\u001b[0;34m(\u001b[0m\u001b[0mnext\u001b[0m\u001b[0;34m(\u001b[0m\u001b[0mstring_iter\u001b[0m\u001b[0;34m)\u001b[0m\u001b[0;34m)\u001b[0m\u001b[0;34m\u001b[0m\u001b[0;34m\u001b[0m\u001b[0m\n\u001b[1;32m      6\u001b[0m   \u001b[0;32melse\u001b[0m\u001b[0;34m:\u001b[0m\u001b[0;34m\u001b[0m\u001b[0;34m\u001b[0m\u001b[0m\n\u001b[0;32m----> 7\u001b[0;31m     \u001b[0mnext\u001b[0m\u001b[0;34m(\u001b[0m\u001b[0mstring_iter\u001b[0m\u001b[0;34m)\u001b[0m\u001b[0;34m\u001b[0m\u001b[0;34m\u001b[0m\u001b[0m\n\u001b[0m",
            "\u001b[0;31mStopIteration\u001b[0m: "
          ]
        }
      ]
    },
    {
      "cell_type": "markdown",
      "source": [
        "А що якщо викликати цю ж функцію на рядку?"
      ],
      "metadata": {
        "id": "aekWHGXOLRsO"
      }
    },
    {
      "cell_type": "code",
      "source": [
        "print(next(\"okay\"))"
      ],
      "metadata": {
        "id": "mxATGsErLV1i",
        "colab": {
          "base_uri": "https://localhost:8080/",
          "height": 139
        },
        "outputId": "5323cd15-8e58-4033-f446-7917a9992c6c"
      },
      "execution_count": 81,
      "outputs": [
        {
          "output_type": "error",
          "ename": "TypeError",
          "evalue": "'str' object is not an iterator",
          "traceback": [
            "\u001b[0;31m---------------------------------------------------------------------------\u001b[0m",
            "\u001b[0;31mTypeError\u001b[0m                                 Traceback (most recent call last)",
            "\u001b[0;32m<ipython-input-81-449c9713ffe6>\u001b[0m in \u001b[0;36m<cell line: 0>\u001b[0;34m()\u001b[0m\n\u001b[0;32m----> 1\u001b[0;31m \u001b[0mprint\u001b[0m\u001b[0;34m(\u001b[0m\u001b[0mnext\u001b[0m\u001b[0;34m(\u001b[0m\u001b[0;34m\"okay\"\u001b[0m\u001b[0;34m)\u001b[0m\u001b[0;34m)\u001b[0m\u001b[0;34m\u001b[0m\u001b[0;34m\u001b[0m\u001b[0m\n\u001b[0m",
            "\u001b[0;31mTypeError\u001b[0m: 'str' object is not an iterator"
          ]
        }
      ]
    },
    {
      "cell_type": "markdown",
      "source": [
        " 12. (5б). Опишіть своїми словами в одному реченні, як ви розумієте різницю між ітерабельними обʼєктами та ітераторами (можна на прикладі)."
      ],
      "metadata": {
        "id": "XwtMEopwJ4pH"
      }
    },
    {
      "cell_type": "markdown",
      "source": [
        "по ітератору ми можемо ітеруватися, тобто пройтися по його обʼєктам. а по ітерабельному обʼєкту ми пройтися не зможемо без створення ітератора. якщо створити ітератор з ітерабельного об'єкта, то ми зможемо перебирати його елементи за допомогою next()."
      ],
      "metadata": {
        "id": "-sHrODc3KFn8"
      }
    },
    {
      "cell_type": "markdown",
      "source": [
        "13. (11б). Створіть клас, що має визначений Iterator Protocol та при кожному виклику next повертає назву дня тижня, поки вони не вичерпаються. Зверніть увагу, що порядок має значення."
      ],
      "metadata": {
        "id": "E9qJWmNbK8Gl"
      }
    },
    {
      "cell_type": "code",
      "source": [
        "class Weekdays:\n",
        "  def __init__(self):\n",
        "    self.days = ['Понеділок', 'Вівторок', 'Середа', 'Четвер', 'Пʼятниця', 'Субота', 'Неділя']\n",
        "    self.index = 0\n",
        "\n",
        "  def __iter__(self):\n",
        "    return self\n",
        "\n",
        "  def __next__(self):\n",
        "    if self.index < len(self.days):\n",
        "      day = self.days[self.index]\n",
        "      self.index += 1\n",
        "      return day\n",
        "    else:\n",
        "      raise StopIteration\n",
        "\n",
        "weekdays = Weekdays()\n",
        "for i in weekdays:\n",
        "    print(i)\n"
      ],
      "metadata": {
        "id": "cqx-g_RsLo6I",
        "colab": {
          "base_uri": "https://localhost:8080/"
        },
        "outputId": "3063f016-fead-4556-9e18-e9a7efc9c047"
      },
      "execution_count": 91,
      "outputs": [
        {
          "output_type": "stream",
          "name": "stdout",
          "text": [
            "Понеділок\n",
            "Вівторок\n",
            "Середа\n",
            "Четвер\n",
            "Пʼятниця\n",
            "Субота\n",
            "Неділя\n"
          ]
        }
      ]
    },
    {
      "cell_type": "markdown",
      "source": [
        "# Вітаю! Ви велика(ий) молодець, що впоралась(вся). Похваліть себе та побалуйте чимось приємним. Я Вами пишаюся."
      ],
      "metadata": {
        "id": "Z3E3S_s1Fv7-"
      }
    }
  ]
}