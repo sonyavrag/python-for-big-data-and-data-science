{
 "nbformat": 4,
 "nbformat_minor": 0,
 "metadata": {
  "colab": {
   "provenance": []
  },
  "kernelspec": {
   "name": "python3",
   "display_name": "Python 3"
  },
  "language_info": {
   "name": "python"
  }
 },
 "cells": [
  {
   "cell_type": "markdown",
   "source": [
    "# I. Змінні та памʼять."
   ],
   "metadata": {
    "id": "p9wwt0LZzNvn"
   }
  },
  {
   "cell_type": "markdown",
   "source": [],
   "metadata": {
    "id": "ZUXTIf_gl_7C"
   }
  },
  {
   "cell_type": "markdown",
   "source": [
    "1. Створити змінні, що посилаються на два цілих числа, що однакові за значенням, де значення належить проміжку від -5 до 256. Перевірте, чи будуть ці змінні рівні тільки за значенням або ж ще будуть посилатися на один і той самий обʼєкт в памʼяті? Наведіть код та дайте текстову відповідь нижче."
   ],
   "metadata": {
    "id": "HTJrrm95xSV9"
   }
  },
  {
   "cell_type": "code",
   "execution_count": null,
   "metadata": {
    "id": "TATni2vzayjG",
    "colab": {
     "base_uri": "https://localhost:8080/"
    },
    "outputId": "ca897dde-4641-41a1-a378-22cfd66b8c02"
   },
   "outputs": [
    {
     "output_type": "stream",
     "name": "stdout",
     "text": [
      "True\n",
      "10754024\n",
      "10754024\n"
     ]
    }
   ],
   "source": [
    "num1 = 100\n",
    "num2 = 100\n",
    "print(num1 == num2)\n",
    "print(id(num1))\n",
    "print(id(num2))"
   ]
  },
  {
   "cell_type": "markdown",
   "source": [
    "змінні посилаються на один і той самий обʼєкт в памʼяті , тому що значення знаходяться в проміжку від -5 до 256. в пайтоні це зроблено для оптимізації памʼяті."
   ],
   "metadata": {
    "id": "zfRG_o3WbRdg"
   }
  },
  {
   "cell_type": "markdown",
   "source": [
    "2. За допомогою якої функції можна перевірити належність змінної до вказаного типу даних (напр. чи змінна True посилається на значення булевого та цілочисленого типу)?"
   ],
   "metadata": {
    "id": "ISORzt6M3vAt"
   }
  },
  {
   "cell_type": "code",
   "source": [
    "var = True\n",
    "print(isinstance(var, bool))\n",
    "print(isinstance(var, int))"
   ],
   "metadata": {
    "id": "9vL9CFaMbfyo",
    "colab": {
     "base_uri": "https://localhost:8080/"
    },
    "outputId": "eadac6f7-6720-4b7f-f046-c4df5dc697c8"
   },
   "execution_count": null,
   "outputs": [
    {
     "output_type": "stream",
     "name": "stdout",
     "text": [
      "True\n",
      "True\n"
     ]
    }
   ]
  },
  {
   "cell_type": "markdown",
   "source": [
    "# II. Цілі числа та числа з рухомою комою"
   ],
   "metadata": {
    "id": "tRxugKAxwYLw"
   }
  },
  {
   "cell_type": "markdown",
   "source": [
    "3. Створити дві змінні, що посилаються на будь-які ціле число та число з рухомою комою та продемонструвати такі арифметичні операції: додавання, віднімання, ділення, множення, ділення без залишку, ділення по модулю, приведення до ступеню. Всі результати операцій вивести на екран."
   ],
   "metadata": {
    "id": "NLHkgd5Gybc8"
   }
  },
  {
   "cell_type": "code",
   "source": [
    "num_int = 100\n",
    "num_float = 20.5\n",
    "print(num_int + num_float)\n",
    "print(num_int - num_float)\n",
    "print(num_int / num_float)\n",
    "print(num_int * num_float)\n",
    "print(num_int // num_float)\n",
    "print(num_int % num_float)\n",
    "print(num_int ** num_float)"
   ],
   "metadata": {
    "id": "nb8u_3pjb2cA",
    "colab": {
     "base_uri": "https://localhost:8080/"
    },
    "outputId": "19a41af3-7fc5-453a-f37d-d0ba153033a3"
   },
   "execution_count": null,
   "outputs": [
    {
     "output_type": "stream",
     "name": "stdout",
     "text": [
      "120.5\n",
      "79.5\n",
      "4.878048780487805\n",
      "2050.0\n",
      "4.0\n",
      "18.0\n",
      "1e+41\n"
     ]
    }
   ]
  },
  {
   "cell_type": "markdown",
   "source": [
    "4. Використовуючи змінні з вправи 3, продемонструйте механізм явного перетворення типів, де числа з рухомою комою перетворюються на цілі числа. Також визначте змінну, що посилається на значення булевого типу і спробуйте явно привести її до цілого числа."
   ],
   "metadata": {
    "id": "1kBClKgPzZnC"
   }
  },
  {
   "cell_type": "code",
   "source": [
    "num_float = int(num_float)\n",
    "print(num_float)\n",
    "bool1 = True\n",
    "bool1 = int(bool1)\n",
    "print(bool1)"
   ],
   "metadata": {
    "id": "TbqJbkeUcKsD",
    "colab": {
     "base_uri": "https://localhost:8080/"
    },
    "outputId": "2a21789c-a6c3-4060-e1a8-618e1dea725e"
   },
   "execution_count": null,
   "outputs": [
    {
     "output_type": "stream",
     "name": "stdout",
     "text": [
      "20\n",
      "1\n"
     ]
    }
   ]
  },
  {
   "cell_type": "markdown",
   "source": [
    "# IІІ. Рядки (String)."
   ],
   "metadata": {
    "id": "EVJ7AflwxrZi"
   }
  },
  {
   "cell_type": "markdown",
   "source": [
    "5. Створити пустий рядок двома різними способами."
   ],
   "metadata": {
    "id": "_s5ECzz9zE61"
   }
  },
  {
   "cell_type": "code",
   "source": [
    "emp_str_1 = str()\n",
    "emp_str_2 = \"\""
   ],
   "metadata": {
    "id": "fkZJHu9Scvc-"
   },
   "execution_count": null,
   "outputs": []
  },
  {
   "cell_type": "markdown",
   "source": [
    "6. Створити рядок з апострофом. Зробити його сирим. Вивести обидва рядка на екран."
   ],
   "metadata": {
    "id": "4Bdn9J3MzLf_"
   }
  },
  {
   "cell_type": "code",
   "source": [
    "normal_str = \"'\"\n",
    "raw_str = r\"'\"\n",
    "print(normal_str)\n",
    "print(raw_str)"
   ],
   "metadata": {
    "id": "ivji_hsmc0GH",
    "colab": {
     "base_uri": "https://localhost:8080/"
    },
    "outputId": "f0962973-8763-43a0-debb-0f8820e9056d"
   },
   "execution_count": null,
   "outputs": [
    {
     "output_type": "stream",
     "name": "stdout",
     "text": [
      "'\n",
      "'\n"
     ]
    }
   ]
  },
  {
   "cell_type": "markdown",
   "source": [
    "7. Створити змінну, що буде посилатися на Ваше прізвище латинкою. Створити форматований рядок, який буде мати вигляд \"My surname is ______\", де на місці нижніх підкреслень буде Ваше прізвище зі змінної."
   ],
   "metadata": {
    "id": "bg_d8wM4z8dS"
   }
  },
  {
   "cell_type": "code",
   "source": [
    "my_surname = \"Panasiuk\"\n",
    "form_str = f\"My surname is \" + my_surname\n",
    "print(form_str)"
   ],
   "metadata": {
    "id": "kuxFgpWndACq",
    "colab": {
     "base_uri": "https://localhost:8080/"
    },
    "outputId": "de22e486-e519-4cc7-c588-7f9ffc0ea2d0"
   },
   "execution_count": null,
   "outputs": [
    {
     "output_type": "stream",
     "name": "stdout",
     "text": [
      "My surname is Panasiuk\n"
     ]
    }
   ]
  },
  {
   "cell_type": "markdown",
   "source": [
    "8. Маючи рядок \"My dog is crazy.\" перетворити його на список [\"my\", \"dog\", \"is\", \"crazy\"]"
   ],
   "metadata": {
    "id": "1Nc6RqvQ0hxU"
   }
  },
  {
   "cell_type": "code",
   "source": [
    "string = \"My dog is crazy.\"\n",
    "list = string.strip(\".\").lower().split()\n",
    "print(list)"
   ],
   "metadata": {
    "id": "w1Ya4RqedUhw",
    "colab": {
     "base_uri": "https://localhost:8080/"
    },
    "outputId": "e5a74daf-a9cb-458a-a580-eaefbfe65262"
   },
   "execution_count": null,
   "outputs": [
    {
     "output_type": "stream",
     "name": "stdout",
     "text": [
      "['my', 'dog', 'is', 'crazy']\n"
     ]
    }
   ]
  },
  {
   "cell_type": "markdown",
   "source": [
    "# IV. Робота зі списками."
   ],
   "metadata": {
    "id": "GYVqN9uP1D4n"
   }
  },
  {
   "cell_type": "markdown",
   "source": [
    "9. Створити список двома різними за синтаксисом способами. За допомогою вбудованої функції обчисліть довжину одного з них."
   ],
   "metadata": {
    "id": "7-DeDunw2sO-"
   }
  },
  {
   "cell_type": "code",
   "source": [
    "list_1 = [1,2,3]\n",
    "list_2 = list((1,2,3,4))\n",
    "print(len(list_2))"
   ],
   "metadata": {
    "id": "zxg06Uuxdyoh",
    "colab": {
     "base_uri": "https://localhost:8080/"
    },
    "outputId": "4394332d-c2bb-41a7-99b7-1e896f24aed7"
   },
   "execution_count": 5,
   "outputs": [
    {
     "output_type": "stream",
     "name": "stdout",
     "text": [
      "4\n"
     ]
    }
   ]
  },
  {
   "cell_type": "markdown",
   "source": [
    "10. Створіть два списка та за допомогою спеціального методу додайте другий з них в якості останнього елемента першого."
   ],
   "metadata": {
    "id": "8vmGUTjL22gI"
   }
  },
  {
   "cell_type": "code",
   "source": [
    "list_1 = [1,2,3]\n",
    "list_2 = [4,5]\n",
    "list_1.append(list_2)\n",
    "list_1"
   ],
   "metadata": {
    "id": "uHtjWYw7d7hm",
    "colab": {
     "base_uri": "https://localhost:8080/"
    },
    "outputId": "3fce4790-46dc-408d-a949-019daab6532c"
   },
   "execution_count": 2,
   "outputs": [
    {
     "output_type": "execute_result",
     "data": {
      "text/plain": [
       "[1, 2, 3, [4, 5]]"
      ]
     },
     "metadata": {},
     "execution_count": 2
    }
   ]
  },
  {
   "cell_type": "markdown",
   "source": [
    "11. Створіть список, де елементами цього списку також є списки. Отримай перший елемент з останнього рядка та виведи значення на екран."
   ],
   "metadata": {
    "id": "JC3BkD-67_--"
   }
  },
  {
   "cell_type": "code",
   "source": [
    "list_1 = [[1,2],[3,4],[5,6]]\n",
    "print(list_1[-1][0])"
   ],
   "metadata": {
    "id": "Kz2jZHsGeLlz",
    "colab": {
     "base_uri": "https://localhost:8080/"
    },
    "outputId": "f4dcda28-a7d0-4e07-c7bd-193d12ef3dff"
   },
   "execution_count": 9,
   "outputs": [
    {
     "output_type": "stream",
     "name": "stdout",
     "text": [
      "5\n"
     ]
    }
   ]
  },
  {
   "cell_type": "markdown",
   "source": [
    "12. Створіть список з десяти елементів різного типу. Отримайте всі елементи, окрім двох перших та двох останніх та збережіть їх в новій змінній."
   ],
   "metadata": {
    "id": "JA47PKTv8zFK"
   }
  },
  {
   "cell_type": "code",
   "source": [
    "list_1 = [\n",
    "    1,\n",
    "    'hi',\n",
    "    True,\n",
    "    False,\n",
    "    [10,23],\n",
    "    2.5,\n",
    "    None,\n",
    "    {25,50,75},\n",
    "    89,\n",
    "    'abc'\n",
    "]\n",
    "new_list = list_1[2:8]\n",
    "new_list"
   ],
   "metadata": {
    "id": "_rHdUR-ueP4-",
    "colab": {
     "base_uri": "https://localhost:8080/"
    },
    "outputId": "3e96b1fc-f865-421b-e4d8-0ed6cceed836"
   },
   "execution_count": 19,
   "outputs": [
    {
     "output_type": "execute_result",
     "data": {
      "text/plain": [
       "[True, False, [10, 23], 2.5, None, {25, 50, 75}]"
      ]
     },
     "metadata": {},
     "execution_count": 19
    }
   ]
  },
  {
   "cell_type": "markdown",
   "source": [
    "# V. Робота з кортежами."
   ],
   "metadata": {
    "id": "pCjR1dJb1Qbi"
   }
  },
  {
   "cell_type": "markdown",
   "source": [
    "14. Створити кортеж з один елементом."
   ],
   "metadata": {
    "id": "fAZCxAX06R_k"
   }
  },
  {
   "cell_type": "code",
   "source": [
    "tuple_1 = (3,)\n",
    "tuple_1"
   ],
   "metadata": {
    "id": "H7d82WkQev3e",
    "colab": {
     "base_uri": "https://localhost:8080/"
    },
    "outputId": "8f08fbe9-6d7e-4880-e85d-48703374c1b9"
   },
   "execution_count": 18,
   "outputs": [
    {
     "output_type": "execute_result",
     "data": {
      "text/plain": [
       "True"
      ]
     },
     "metadata": {},
     "execution_count": 18
    }
   ]
  },
  {
   "cell_type": "markdown",
   "source": [
    "15. Порівняйте список та кортеж. Назвіть схожості та відмінності, випадки використання."
   ],
   "metadata": {
    "id": "8LCtYcmI6w1M"
   }
  },
  {
   "cell_type": "markdown",
   "source": [
    "список це змінний тип даних, тобто ми зможемо змінити список, а кортеж це незмінний тип даних і після створення його змінити не можливо. кортеж має менше можливостей за список. список повільніший , а кортеж швидший. синтаксис списку це []. а кортежу (,). список використовуємо у випадку,якщо швидкість не має значення та дані потрібно буде змінювати, а кортеж, коли потрібна швидкість та якщо дані лишатимуться незмінними."
   ],
   "metadata": {
    "id": "fUsN1Hnue0C6"
   }
  },
  {
   "cell_type": "markdown",
   "source": [
    "16. Створіть кортеж з 11ти елементів чисел з рухомою комою та отримайте кожен парний за індексом елемент в зворотньому порядку. Наприклад, маючи (1.2, 2.3, 3.3, 4.3, 5.3, 6.3, 7.3, 8.3, 9.3, 0.3), отримати (0.3, 8.3, 6.3, 4.3, 2.3). Результат збережіть в нову змінну та виведіть на екран."
   ],
   "metadata": {
    "id": "m0xrwFijAmDD"
   }
  },
  {
   "cell_type": "code",
   "source": [
    "tuple_1 = (0.3, 1.3, 2.3, 3.3, 4.3, 5.3, 6.3, 7.3, 8.3, 9.3, 10.3)\n",
    "new_tuple = tuple_1[0:12:2][::-1]\n",
    "new_tuple"
   ],
   "metadata": {
    "id": "p-5DAH6XfAGA",
    "colab": {
     "base_uri": "https://localhost:8080/"
    },
    "outputId": "68b8f00c-b0ba-4ae1-fe24-cbce6f90dfc8"
   },
   "execution_count": 40,
   "outputs": [
    {
     "output_type": "execute_result",
     "data": {
      "text/plain": [
       "(10.3, 8.3, 6.3, 4.3, 2.3, 0.3)"
      ]
     },
     "metadata": {},
     "execution_count": 40
    }
   ]
  },
  {
   "cell_type": "markdown",
   "source": [
    "# VI. Множини (Set)."
   ],
   "metadata": {
    "id": "rW_I9dt3x6cW"
   }
  },
  {
   "cell_type": "markdown",
   "source": [
    "17. Створити множину без елементів. Після цого за допомогою методу додайте кілька різних елементів до множини. Чи множини є змінним типом даних?"
   ],
   "metadata": {
    "id": "zNjRLHLw1Bgg"
   }
  },
  {
   "cell_type": "code",
   "source": [
    "set_1 = set()\n",
    "set_1.add(1)\n",
    "set_1.add(\"h\")\n",
    "set_1"
   ],
   "metadata": {
    "id": "KOv7zc2Kfo4N",
    "colab": {
     "base_uri": "https://localhost:8080/"
    },
    "outputId": "51c4b812-8ae2-427d-f660-542fe547236e"
   },
   "execution_count": 49,
   "outputs": [
    {
     "output_type": "execute_result",
     "data": {
      "text/plain": [
       "{1, 'h'}"
      ]
     },
     "metadata": {},
     "execution_count": 49
    }
   ]
  },
  {
   "cell_type": "markdown",
   "source": [
    "так, множини є змінним типом даних, адже ми можемо додавати елементи до множини після її створення"
   ],
   "metadata": {
    "id": "vxS6dVYiftZQ"
   }
  },
  {
   "cell_type": "markdown",
   "source": [
    "18. Створити множину, маючи список my_list = [1, 1, 2, 67, 67, 8, 9]. Пояснити, чому \"зникли\" деякі елементи."
   ],
   "metadata": {
    "id": "gHpT0Zw_1HEF"
   }
  },
  {
   "cell_type": "code",
   "source": [
    "my_list = [1, 1, 2, 67, 67, 8, 9]\n",
    "set_1 = set(my_list)\n",
    "set_1"
   ],
   "metadata": {
    "id": "qCN4uvJ_fxmu",
    "colab": {
     "base_uri": "https://localhost:8080/"
    },
    "outputId": "ed5b4b14-e026-43ad-fdb4-d22161cf0cc0"
   },
   "execution_count": 52,
   "outputs": [
    {
     "output_type": "execute_result",
     "data": {
      "text/plain": [
       "{1, 2, 8, 9, 67}"
      ]
     },
     "metadata": {},
     "execution_count": 52
    }
   ]
  },
  {
   "cell_type": "markdown",
   "source": [
    "у множинах не може бути дублікатів, тому залишились унікальні елементи"
   ],
   "metadata": {
    "id": "tFNc1e20fyny"
   }
  },
  {
   "cell_type": "markdown",
   "source": [
    "19. Створіть дві множини. Продемонстуйте над ними операції: обʼєднання, різниці, пересічі та симетричної різниці. Використовуйте методи, що не змінюють множини, а створюють нові."
   ],
   "metadata": {
    "id": "SRMkGizS1UwY"
   }
  },
  {
   "cell_type": "code",
   "source": [
    "set_1 = {1,2,3,4}\n",
    "set_2 = {2,4,5,6}\n",
    "set_addition = set_1.union(set_2)\n",
    "print(set_addition)\n",
    "set_subtraction = set_1.difference(set_2)\n",
    "print(set_subtraction)\n",
    "set_intersection = set_1.intersection(set_2)\n",
    "print(set_intersection)\n",
    "set_sym_difference = set_1.symmetric_difference(set_2)\n",
    "print(set_sym_difference)"
   ],
   "metadata": {
    "id": "h0T-VuDnf3Ri",
    "colab": {
     "base_uri": "https://localhost:8080/"
    },
    "outputId": "9464e9de-ac44-4b15-de88-fb82bc69eb35"
   },
   "execution_count": 60,
   "outputs": [
    {
     "output_type": "stream",
     "name": "stdout",
     "text": [
      "{1, 2, 3, 4, 5, 6}\n",
      "{1, 3}\n",
      "{2, 4}\n",
      "{1, 3, 5, 6}\n"
     ]
    }
   ]
  },
  {
   "cell_type": "markdown",
   "source": [
    "# VII. Словники (Dictionary)."
   ],
   "metadata": {
    "id": "kWc8gkzTx7Ea"
   }
  },
  {
   "cell_type": "markdown",
   "source": [
    "20. Створіть пустий словник. До нього додайте чотири пари елементів такі, щоб їхні ключі були різних типів. Чи може список бути ключем? Чому?"
   ],
   "metadata": {
    "id": "i5FLwj-B2ybQ"
   }
  },
  {
   "cell_type": "code",
   "source": [
    "dict_1 = {}\n",
    "dict_1 = {1 : \"dfghj\",\n",
    "          \"fgh\" : {1,2,3},\n",
    "          (100) : 24.7,\n",
    "          False : ['h','g']\n",
    "}\n",
    "dict_1"
   ],
   "metadata": {
    "id": "hxgv3BzrgLAV",
    "colab": {
     "base_uri": "https://localhost:8080/"
    },
    "outputId": "acf30b01-8665-4f53-9eb2-3fc2d0abdb35"
   },
   "execution_count": 63,
   "outputs": [
    {
     "output_type": "execute_result",
     "data": {
      "text/plain": [
       "{1: 'dfghj', 'fgh': {1, 2, 3}, 100: 24.7, False: ['h', 'g']}"
      ]
     },
     "metadata": {},
     "execution_count": 63
    }
   ]
  },
  {
   "cell_type": "markdown",
   "source": [
    "список не може бутм ключем, адже це змінний тип даних і програма не зможе розрахувати для нього хеш. ключем може бути тільки незмінний тип даних."
   ],
   "metadata": {
    "id": "zwa7UVN-gR3m"
   }
  },
  {
   "cell_type": "markdown",
   "source": [
    "21. Створіть словник, де значенням в одній з пар теж буде словник, який теж має вкладений словник. Виведіть на екран значення, що міститься в словнику, що знаходиться на найнижчому рівні ієрархії вкладеності (найбільш внутрішній)."
   ],
   "metadata": {
    "id": "WM_pMlJsgoNf"
   }
  },
  {
   "cell_type": "code",
   "source": [
    "dict_1 = {1: {\"sdf\" : {(345,231) : True} },\n",
    "          \"wer\" : 789,\n",
    "          23.907 : \"azxc\"\n",
    "          }\n",
    "dict_1[1][\"sdf\"][(345,231)]"
   ],
   "metadata": {
    "id": "60dlP7IHhAy4",
    "colab": {
     "base_uri": "https://localhost:8080/"
    },
    "outputId": "cc436d92-8da5-43c8-d2c1-ef121ce6bd43"
   },
   "execution_count": 66,
   "outputs": [
    {
     "output_type": "execute_result",
     "data": {
      "text/plain": [
       "True"
      ]
     },
     "metadata": {},
     "execution_count": 66
    }
   ]
  },
  {
   "cell_type": "markdown",
   "source": [
    "# Вітаю! Ви велика(ий) молодець, що впоралась(вся). Похваліть себе та побалуйте чимось приємним. Я Вами пишаюся."
   ],
   "metadata": {
    "id": "xOZP0hkx6cCr"
   }
  }
 ]
}
